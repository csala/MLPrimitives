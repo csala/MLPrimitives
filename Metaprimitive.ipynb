{
 "cells": [
  {
   "cell_type": "markdown",
   "metadata": {},
   "source": [
    "Contents of `mlprimitives.meta.py`\n",
    "\n",
    "```python\n",
    "import pandas as pd\n",
    "from mlblocks import MLBlock\n",
    "\n",
    "\n",
    "class ApplyPrimitive:\n",
    "\n",
    "    def __init__(self, primitive_name, keyword='x', axis=0, init_params=None, **hyperparameters):\n",
    "        self.keyword = keyword\n",
    "        if init_params:\n",
    "            init_params = init_params.copy()\n",
    "            init_params.update(hyperparameters)\n",
    "        else:\n",
    "            init_params = hyperparameters\n",
    "\n",
    "        self.mlblock = MLBlock(primitive_name, **init_params)\n",
    "        self.axis = axis\n",
    "\n",
    "    def apply(self, x):\n",
    "        kwargs = {\n",
    "            self.keyword: x\n",
    "        }\n",
    "        return self.mlblock.produce(**kwargs)\n",
    "\n",
    "    def produce(self, X):\n",
    "        dataframe = isinstance(X, pd.DataFrame)\n",
    "        if not dataframe:\n",
    "            X = pd.DataFrame(X)\n",
    "\n",
    "        X = X.apply(self.apply, axis=self.axis)\n",
    "\n",
    "        if dataframe:\n",
    "            return X\n",
    "        else:\n",
    "            return X.values\n",
    "```"
   ]
  },
  {
   "cell_type": "markdown",
   "metadata": {},
   "source": [
    "Contents of `mlprimitives/primitives/mlprimitives.meta.ApplyPrimitive.json`\n",
    "\n",
    "```json\n",
    "{\n",
    "    \"name\": \"mlprimitives.meta.ApplyPrimitive\",\n",
    "    \"primitive\": \"mlprimitives.meta.ApplyPrimitive\",\n",
    "    \"produce\": {\n",
    "        \"method\": \"produce\",\n",
    "        \"args\": [\n",
    "            {\n",
    "                \"name\": \"X\",\n",
    "                \"type\": \"ndarray\"\n",
    "            }\n",
    "        ],\n",
    "        \"output\": [\n",
    "            {\n",
    "                \"name\": \"X\",\n",
    "                \"type\": \"ndarray\"\n",
    "            }\n",
    "        ]\n",
    "    },\n",
    "    \"hyperparameters\": {\n",
    "        \"fixed\": {\n",
    "            \"primitive_name\": {\n",
    "                \"type\": \"str\",\n",
    "                \"description\": \"primitive to apply\"\n",
    "            },\n",
    "            \"keyword\": {\n",
    "                \"type\": \"str\",\n",
    "                \"default\": \"x\",\n",
    "                \"description\": \"names of the argument expected by the primitive\"\n",
    "            },\n",
    "            \"axis\": {\n",
    "                \"type\": \"int\",\n",
    "                \"default\": 0,\n",
    "                \"description\": \"Axis to which the primitive will be applied\"\n",
    "            },\n",
    "            \"init_params\": {\n",
    "                \"type\": \"dict\",\n",
    "                \"default\": {},\n",
    "                \"description\": \"primitive init_params\"\n",
    "            }\n",
    "        }\n",
    "    }\n",
    "}\n",
    "```"
   ]
  },
  {
   "cell_type": "markdown",
   "metadata": {},
   "source": [
    "Contents of `mlprimitives.test.py`\n",
    "\n",
    "```python\n",
    "def add(x, k):\n",
    "    return x.sum() + k\n",
    "```"
   ]
  },
  {
   "cell_type": "markdown",
   "metadata": {},
   "source": [
    "Contents of `mlprimitives/primitives/mlprimitives.test.add.json`\n",
    "\n",
    "```json\n",
    "{\n",
    "    \"name\": \"mlprimitives.test.add\",\n",
    "    \"primitive\": \"mlprimitives.test.add\",\n",
    "    \"produce\": {\n",
    "        \"args\": [\n",
    "            {\n",
    "                \"name\": \"x\"\n",
    "            }\n",
    "        ],\n",
    "        \"output\": [\n",
    "            {\n",
    "                \"name\": \"x\"\n",
    "            }\n",
    "        ]\n",
    "    },\n",
    "    \"hyperparameters\": {\n",
    "        \"fixed\": {\n",
    "            \"k\": {\n",
    "                \"type\": \"int\"\n",
    "            }\n",
    "        }\n",
    "    }\n",
    "}\n",
    "```"
   ]
  },
  {
   "cell_type": "code",
   "execution_count": 1,
   "metadata": {},
   "outputs": [],
   "source": [
    "import pandas as pd\n",
    "\n",
    "X = pd.DataFrame([\n",
    "    [1, 2],\n",
    "    [3, 4]\n",
    "])"
   ]
  },
  {
   "cell_type": "code",
   "execution_count": 2,
   "metadata": {},
   "outputs": [
    {
     "data": {
      "text/html": [
       "<div>\n",
       "<style scoped>\n",
       "    .dataframe tbody tr th:only-of-type {\n",
       "        vertical-align: middle;\n",
       "    }\n",
       "\n",
       "    .dataframe tbody tr th {\n",
       "        vertical-align: top;\n",
       "    }\n",
       "\n",
       "    .dataframe thead th {\n",
       "        text-align: right;\n",
       "    }\n",
       "</style>\n",
       "<table border=\"1\" class=\"dataframe\">\n",
       "  <thead>\n",
       "    <tr style=\"text-align: right;\">\n",
       "      <th></th>\n",
       "      <th>0</th>\n",
       "      <th>1</th>\n",
       "    </tr>\n",
       "  </thead>\n",
       "  <tbody>\n",
       "    <tr>\n",
       "      <th>0</th>\n",
       "      <td>1</td>\n",
       "      <td>2</td>\n",
       "    </tr>\n",
       "    <tr>\n",
       "      <th>1</th>\n",
       "      <td>3</td>\n",
       "      <td>4</td>\n",
       "    </tr>\n",
       "  </tbody>\n",
       "</table>\n",
       "</div>"
      ],
      "text/plain": [
       "   0  1\n",
       "0  1  2\n",
       "1  3  4"
      ]
     },
     "execution_count": 2,
     "metadata": {},
     "output_type": "execute_result"
    }
   ],
   "source": [
    "X"
   ]
  },
  {
   "cell_type": "code",
   "execution_count": 3,
   "metadata": {},
   "outputs": [],
   "source": [
    "from mlblocks import MLBlock, MLPipeline"
   ]
  },
  {
   "cell_type": "code",
   "execution_count": 4,
   "metadata": {},
   "outputs": [],
   "source": [
    "block = MLBlock('mlprimitives.test.add', k=10)"
   ]
  },
  {
   "cell_type": "code",
   "execution_count": 5,
   "metadata": {},
   "outputs": [
    {
     "data": {
      "text/plain": [
       "14"
      ]
     },
     "execution_count": 5,
     "metadata": {},
     "output_type": "execute_result"
    }
   ],
   "source": [
    "block.produce(x=X[0])"
   ]
  },
  {
   "cell_type": "code",
   "execution_count": 20,
   "metadata": {},
   "outputs": [],
   "source": [
    "block = MLBlock('mlprimitives.test.sum', k=10)"
   ]
  },
  {
   "cell_type": "code",
   "execution_count": 21,
   "metadata": {},
   "outputs": [
    {
     "data": {
      "text/plain": [
       "0    1114\n",
       "1    1116\n",
       "dtype: int64"
      ]
     },
     "execution_count": 21,
     "metadata": {},
     "output_type": "execute_result"
    }
   ],
   "source": [
    "block.produce(x=X, y=1000, z=100)"
   ]
  },
  {
   "cell_type": "code",
   "execution_count": 22,
   "metadata": {},
   "outputs": [],
   "source": [
    "meta = MLBlock(\n",
    "    'mlprimitives.meta.ApplyPrimitive',\n",
    "    primitive_name='mlprimitives.test.add',\n",
    "    init_params={'k': 10},\n",
    ")"
   ]
  },
  {
   "cell_type": "code",
   "execution_count": 23,
   "metadata": {},
   "outputs": [
    {
     "data": {
      "text/html": [
       "<div>\n",
       "<style scoped>\n",
       "    .dataframe tbody tr th:only-of-type {\n",
       "        vertical-align: middle;\n",
       "    }\n",
       "\n",
       "    .dataframe tbody tr th {\n",
       "        vertical-align: top;\n",
       "    }\n",
       "\n",
       "    .dataframe thead th {\n",
       "        text-align: right;\n",
       "    }\n",
       "</style>\n",
       "<table border=\"1\" class=\"dataframe\">\n",
       "  <thead>\n",
       "    <tr style=\"text-align: right;\">\n",
       "      <th></th>\n",
       "      <th>0</th>\n",
       "    </tr>\n",
       "  </thead>\n",
       "  <tbody>\n",
       "    <tr>\n",
       "      <th>0</th>\n",
       "      <td>13</td>\n",
       "    </tr>\n",
       "    <tr>\n",
       "      <th>1</th>\n",
       "      <td>17</td>\n",
       "    </tr>\n",
       "  </tbody>\n",
       "</table>\n",
       "</div>"
      ],
      "text/plain": [
       "    0\n",
       "0  13\n",
       "1  17"
      ]
     },
     "execution_count": 23,
     "metadata": {},
     "output_type": "execute_result"
    }
   ],
   "source": [
    "meta.produce(X=X)"
   ]
  },
  {
   "cell_type": "code",
   "execution_count": 24,
   "metadata": {},
   "outputs": [],
   "source": [
    "meta = MLBlock(\n",
    "    'mlprimitives.test.add.by_row',\n",
    "    k=10\n",
    ")"
   ]
  },
  {
   "cell_type": "code",
   "execution_count": 25,
   "metadata": {},
   "outputs": [
    {
     "data": {
      "text/html": [
       "<div>\n",
       "<style scoped>\n",
       "    .dataframe tbody tr th:only-of-type {\n",
       "        vertical-align: middle;\n",
       "    }\n",
       "\n",
       "    .dataframe tbody tr th {\n",
       "        vertical-align: top;\n",
       "    }\n",
       "\n",
       "    .dataframe thead th {\n",
       "        text-align: right;\n",
       "    }\n",
       "</style>\n",
       "<table border=\"1\" class=\"dataframe\">\n",
       "  <thead>\n",
       "    <tr style=\"text-align: right;\">\n",
       "      <th></th>\n",
       "      <th>0</th>\n",
       "    </tr>\n",
       "  </thead>\n",
       "  <tbody>\n",
       "    <tr>\n",
       "      <th>0</th>\n",
       "      <td>13</td>\n",
       "    </tr>\n",
       "    <tr>\n",
       "      <th>1</th>\n",
       "      <td>17</td>\n",
       "    </tr>\n",
       "  </tbody>\n",
       "</table>\n",
       "</div>"
      ],
      "text/plain": [
       "    0\n",
       "0  13\n",
       "1  17"
      ]
     },
     "execution_count": 25,
     "metadata": {},
     "output_type": "execute_result"
    }
   ],
   "source": [
    "meta.produce(X=X)"
   ]
  },
  {
   "cell_type": "code",
   "execution_count": 26,
   "metadata": {},
   "outputs": [],
   "source": [
    "meta = MLBlock(\n",
    "    'mlprimitives.test.sum.by_row',\n",
    "    k=10\n",
    ")"
   ]
  },
  {
   "cell_type": "code",
   "execution_count": 27,
   "metadata": {},
   "outputs": [
    {
     "data": {
      "text/html": [
       "<div>\n",
       "<style scoped>\n",
       "    .dataframe tbody tr th:only-of-type {\n",
       "        vertical-align: middle;\n",
       "    }\n",
       "\n",
       "    .dataframe tbody tr th {\n",
       "        vertical-align: top;\n",
       "    }\n",
       "\n",
       "    .dataframe thead th {\n",
       "        text-align: right;\n",
       "    }\n",
       "</style>\n",
       "<table border=\"1\" class=\"dataframe\">\n",
       "  <thead>\n",
       "    <tr style=\"text-align: right;\">\n",
       "      <th></th>\n",
       "      <th>0</th>\n",
       "    </tr>\n",
       "  </thead>\n",
       "  <tbody>\n",
       "    <tr>\n",
       "      <th>0</th>\n",
       "      <td>1113</td>\n",
       "    </tr>\n",
       "    <tr>\n",
       "      <th>1</th>\n",
       "      <td>2117</td>\n",
       "    </tr>\n",
       "  </tbody>\n",
       "</table>\n",
       "</div>"
      ],
      "text/plain": [
       "      0\n",
       "0  1113\n",
       "1  2117"
      ]
     },
     "execution_count": 27,
     "metadata": {},
     "output_type": "execute_result"
    }
   ],
   "source": [
    "meta.produce(X=X, Y=[1000, 2000], z=100)"
   ]
  },
  {
   "cell_type": "code",
   "execution_count": 31,
   "metadata": {},
   "outputs": [],
   "source": [
    "meta.set_hyperparameters({'k': 20})"
   ]
  },
  {
   "cell_type": "code",
   "execution_count": 32,
   "metadata": {},
   "outputs": [
    {
     "data": {
      "text/html": [
       "<div>\n",
       "<style scoped>\n",
       "    .dataframe tbody tr th:only-of-type {\n",
       "        vertical-align: middle;\n",
       "    }\n",
       "\n",
       "    .dataframe tbody tr th {\n",
       "        vertical-align: top;\n",
       "    }\n",
       "\n",
       "    .dataframe thead th {\n",
       "        text-align: right;\n",
       "    }\n",
       "</style>\n",
       "<table border=\"1\" class=\"dataframe\">\n",
       "  <thead>\n",
       "    <tr style=\"text-align: right;\">\n",
       "      <th></th>\n",
       "      <th>0</th>\n",
       "    </tr>\n",
       "  </thead>\n",
       "  <tbody>\n",
       "    <tr>\n",
       "      <th>0</th>\n",
       "      <td>1123</td>\n",
       "    </tr>\n",
       "    <tr>\n",
       "      <th>1</th>\n",
       "      <td>2127</td>\n",
       "    </tr>\n",
       "  </tbody>\n",
       "</table>\n",
       "</div>"
      ],
      "text/plain": [
       "      0\n",
       "0  1123\n",
       "1  2127"
      ]
     },
     "execution_count": 32,
     "metadata": {},
     "output_type": "execute_result"
    }
   ],
   "source": [
    "meta.produce(X=X, Y=[1000, 2000], z=100)"
   ]
  },
  {
   "cell_type": "code",
   "execution_count": 33,
   "metadata": {},
   "outputs": [
    {
     "data": {
      "text/plain": [
       "{'primitive_name': 'mlprimitives.test.sum',\n",
       " 'keywords': {'X': 'x', 'Y': 'y'},\n",
       " 'axis': 0,\n",
       " 'zip': ['Y'],\n",
       " 'k': 20,\n",
       " 'init_params': {'k': 20}}"
      ]
     },
     "execution_count": 33,
     "metadata": {},
     "output_type": "execute_result"
    }
   ],
   "source": [
    "meta.get_hyperparameters()"
   ]
  },
  {
   "cell_type": "code",
   "execution_count": 35,
   "metadata": {},
   "outputs": [],
   "source": [
    "pipeline_dict = {\n",
    "    'primitives': [\n",
    "        'mlprimitives.meta.ApplyPrimitive',\n",
    "    ],\n",
    "    'init_params': {\n",
    "        'mlprimitives.meta.ApplyPrimitive#1': {\n",
    "            'primitive_name': 'mlprimitives.test.add',\n",
    "            'axis': 1,\n",
    "            'init_params': {\n",
    "                'k': 10\n",
    "            }\n",
    "        }\n",
    "    }\n",
    "}\n",
    "\n",
    "pipeline = MLPipeline(pipeline_dict)"
   ]
  },
  {
   "cell_type": "code",
   "execution_count": 36,
   "metadata": {},
   "outputs": [
    {
     "data": {
      "text/plain": [
       "{'mlprimitives.meta.ApplyPrimitive#1': {}}"
      ]
     },
     "execution_count": 36,
     "metadata": {},
     "output_type": "execute_result"
    }
   ],
   "source": [
    "pipeline.get_tunable_hyperparameters()"
   ]
  },
  {
   "cell_type": "code",
   "execution_count": 37,
   "metadata": {},
   "outputs": [
    {
     "data": {
      "text/plain": [
       "{'mlprimitives.meta.ApplyPrimitive#1': {'primitive_name': 'mlprimitives.test.add',\n",
       "  'keywords': {'X': 'x'},\n",
       "  'axis': 1,\n",
       "  'init_params': {'k': 10},\n",
       "  'zip': []}}"
      ]
     },
     "execution_count": 37,
     "metadata": {},
     "output_type": "execute_result"
    }
   ],
   "source": [
    "pipeline.get_hyperparameters()"
   ]
  },
  {
   "cell_type": "code",
   "execution_count": 38,
   "metadata": {},
   "outputs": [],
   "source": [
    "pipeline.fit(X=X)"
   ]
  },
  {
   "cell_type": "code",
   "execution_count": 39,
   "metadata": {},
   "outputs": [
    {
     "data": {
      "text/html": [
       "<div>\n",
       "<style scoped>\n",
       "    .dataframe tbody tr th:only-of-type {\n",
       "        vertical-align: middle;\n",
       "    }\n",
       "\n",
       "    .dataframe tbody tr th {\n",
       "        vertical-align: top;\n",
       "    }\n",
       "\n",
       "    .dataframe thead th {\n",
       "        text-align: right;\n",
       "    }\n",
       "</style>\n",
       "<table border=\"1\" class=\"dataframe\">\n",
       "  <thead>\n",
       "    <tr style=\"text-align: right;\">\n",
       "      <th></th>\n",
       "      <th>0</th>\n",
       "    </tr>\n",
       "  </thead>\n",
       "  <tbody>\n",
       "    <tr>\n",
       "      <th>0</th>\n",
       "      <td>14</td>\n",
       "    </tr>\n",
       "    <tr>\n",
       "      <th>1</th>\n",
       "      <td>16</td>\n",
       "    </tr>\n",
       "  </tbody>\n",
       "</table>\n",
       "</div>"
      ],
      "text/plain": [
       "    0\n",
       "0  14\n",
       "1  16"
      ]
     },
     "execution_count": 39,
     "metadata": {},
     "output_type": "execute_result"
    }
   ],
   "source": [
    "pipeline.predict(X=X)"
   ]
  },
  {
   "cell_type": "code",
   "execution_count": 40,
   "metadata": {},
   "outputs": [],
   "source": [
    "pipeline_dict = {\n",
    "    'primitives': [\n",
    "        'mlprimitives.meta.ApplyPrimitive',\n",
    "    ],\n",
    "    'init_params': {\n",
    "        'mlprimitives.meta.ApplyPrimitive#1': {\n",
    "            'primitive_name': 'mlprimitives.test.add',\n",
    "            'axis': 1,\n",
    "            'init_params': {\n",
    "                'k': 10\n",
    "            }\n",
    "        }\n",
    "    },\n",
    "    'tunable_hyperparameters': {\n",
    "        'mlprimitives.meta.ApplyPrimitive#1': {\n",
    "            'k': {\n",
    "                'type': 'int'\n",
    "            }\n",
    "        }\n",
    "    }\n",
    "}\n",
    "\n",
    "pipeline = MLPipeline(pipeline_dict)"
   ]
  },
  {
   "cell_type": "code",
   "execution_count": 41,
   "metadata": {},
   "outputs": [
    {
     "data": {
      "text/plain": [
       "{'mlprimitives.meta.ApplyPrimitive#1': {'k': {'type': 'int'}}}"
      ]
     },
     "execution_count": 41,
     "metadata": {},
     "output_type": "execute_result"
    }
   ],
   "source": [
    "pipeline.get_tunable_hyperparameters()"
   ]
  },
  {
   "cell_type": "code",
   "execution_count": 42,
   "metadata": {},
   "outputs": [],
   "source": [
    "meta = MLBlock(\n",
    "    'mlprimitives.test.add.by_row',\n",
    "    k=10\n",
    ")"
   ]
  },
  {
   "cell_type": "code",
   "execution_count": 43,
   "metadata": {},
   "outputs": [
    {
     "data": {
      "text/plain": [
       "{}"
      ]
     },
     "execution_count": 43,
     "metadata": {},
     "output_type": "execute_result"
    }
   ],
   "source": [
    "meta.get_tunable_hyperparameters()"
   ]
  }
 ],
 "metadata": {
  "kernelspec": {
   "display_name": "Python 3",
   "language": "python",
   "name": "python3"
  },
  "language_info": {
   "codemirror_mode": {
    "name": "ipython",
    "version": 3
   },
   "file_extension": ".py",
   "mimetype": "text/x-python",
   "name": "python",
   "nbconvert_exporter": "python",
   "pygments_lexer": "ipython3",
   "version": "3.6.9"
  }
 },
 "nbformat": 4,
 "nbformat_minor": 4
}
